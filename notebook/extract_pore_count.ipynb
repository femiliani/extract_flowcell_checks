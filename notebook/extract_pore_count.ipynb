{
 "cells": [
  {
   "cell_type": "code",
   "execution_count": 33,
   "id": "ee2b90ae-4925-4e8b-b608-4d7f8acfa70b",
   "metadata": {},
   "outputs": [],
   "source": [
    "import glob\n",
    "import pandas as pd"
   ]
  },
  {
   "cell_type": "markdown",
   "id": "3f9e5af4-7d99-4154-9368-97d65f97e5f3",
   "metadata": {},
   "source": [
    "Extract info from the correct lines"
   ]
  },
  {
   "cell_type": "code",
   "execution_count": 34,
   "id": "f2e407de-b6a8-4679-a619-763286436b6c",
   "metadata": {},
   "outputs": [],
   "source": [
    "def extract_info(logline):\n",
    "    splitline = logline.split(\" \")\n",
    "    date = splitline[3]\n",
    "    time = splitline[4]\n",
    "    flowID = splitline[14]\n",
    "    poreCount = splitline[16]\n",
    "    return([date, time, flowID, poreCount])"
   ]
  },
  {
   "cell_type": "markdown",
   "id": "f61dfa9c-a421-4957-897b-797c8f8d760f",
   "metadata": {},
   "source": [
    "Set the path to the logs e.g. /var/log/minknow/"
   ]
  },
  {
   "cell_type": "code",
   "execution_count": 35,
   "id": "85d553e4-9ac6-4c0a-94af-66cd45919610",
   "metadata": {},
   "outputs": [],
   "source": [
    "path = '/var/log/minknow/'"
   ]
  },
  {
   "cell_type": "markdown",
   "id": "7f948f46-073b-4b08-8d7f-4e9a1dc77a62",
   "metadata": {},
   "source": [
    "Use glob to find all the files in the directory"
   ]
  },
  {
   "cell_type": "code",
   "execution_count": 36,
   "id": "506cf51d-2acb-453e-a7e9-f8f873a597e5",
   "metadata": {},
   "outputs": [],
   "source": [
    "logs = glob.glob(f'{path}/**/bream*.txt', recursive=True)"
   ]
  },
  {
   "cell_type": "markdown",
   "id": "9a820531-a166-45c4-8b85-a72e0933b163",
   "metadata": {},
   "source": [
    "Iterate through the files and find the useful lines and extract the info\n",
    "Stick it in a df "
   ]
  },
  {
   "cell_type": "code",
   "execution_count": 37,
   "id": "ddb4cf2a-9765-4d7c-a958-e3ebb0b5fd17",
   "metadata": {},
   "outputs": [],
   "source": [
    "found = []\n",
    "for file in logs:\n",
    "    with open(file, 'r') as f:\n",
    "        for line in f.readlines():\n",
    "            if 'pores available for sequencing' in line:\n",
    "                found.append(extract_info(line))\n",
    "df = pd.DataFrame(found, columns = ['Date', 'Time', 'FlowCell_ID', 'PoreCount'])\n"
   ]
  },
  {
   "cell_type": "markdown",
   "id": "0f4d216f-5561-43b0-bb10-fec190f6b2af",
   "metadata": {},
   "source": [
    "Save it "
   ]
  },
  {
   "cell_type": "code",
   "execution_count": 38,
   "id": "563de485-b2d9-4c43-8e03-e23f793fd4c5",
   "metadata": {},
   "outputs": [],
   "source": [
    "df.to_csv('info.csv', index=False)"
   ]
  }
 ],
 "metadata": {
  "kernelspec": {
   "display_name": "Python 3 (ipykernel)",
   "language": "python",
   "name": "python3"
  },
  "language_info": {
   "codemirror_mode": {
    "name": "ipython",
    "version": 3
   },
   "file_extension": ".py",
   "mimetype": "text/x-python",
   "name": "python",
   "nbconvert_exporter": "python",
   "pygments_lexer": "ipython3",
   "version": "3.9.7"
  }
 },
 "nbformat": 4,
 "nbformat_minor": 5
}
